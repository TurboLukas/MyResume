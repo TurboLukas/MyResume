{
  "nbformat": 4,
  "nbformat_minor": 0,
  "metadata": {
    "colab": {
      "name": "Pandas.ipynb",
      "provenance": [],
      "collapsed_sections": [
        "LizfRCD-rGIj",
        "gs69BHuDq6be",
        "c8uHqMuTAWRP",
        "c5LxQIvItn9n",
        "aeV1vsnSt23o"
      ],
      "authorship_tag": "ABX9TyPYUSR8kHmsLi69hvH6PIkv",
      "include_colab_link": true
    },
    "kernelspec": {
      "name": "python3",
      "display_name": "Python 3"
    }
  },
  "cells": [
    {
      "cell_type": "markdown",
      "metadata": {
        "id": "view-in-github",
        "colab_type": "text"
      },
      "source": [
        "<a href=\"https://colab.research.google.com/github/TurboLukas/MyResume/blob/master/CheatSheet.ipynb\" target=\"_parent\"><img src=\"https://colab.research.google.com/assets/colab-badge.svg\" alt=\"Open In Colab\"/></a>"
      ]
    },
    {
      "cell_type": "markdown",
      "metadata": {
        "id": "sveKV4xNuGIN",
        "colab_type": "text"
      },
      "source": [
        "# MY PANDAS CHEAT SHEET"
      ]
    },
    {
      "cell_type": "code",
      "metadata": {
        "id": "k9aUVByEfhTK",
        "colab_type": "code",
        "colab": {}
      },
      "source": [
        "import pandas as pd\n",
        "import numpy as np\n"
      ],
      "execution_count": 0,
      "outputs": []
    },
    {
      "cell_type": "code",
      "metadata": {
        "id": "I3MBGuD3fd06",
        "colab_type": "code",
        "colab": {}
      },
      "source": [
        "df = pd.read_csv(\"https://data.heatonresearch.com/data/t81-558/auto-mpg.csv\")"
      ],
      "execution_count": 0,
      "outputs": []
    },
    {
      "cell_type": "markdown",
      "metadata": {
        "id": "LizfRCD-rGIj",
        "colab_type": "text"
      },
      "source": [
        "### DISPLAYING VALUES & DESCRIBING SET"
      ]
    },
    {
      "cell_type": "code",
      "metadata": {
        "id": "fHWYrshjfz9K",
        "colab_type": "code",
        "colab": {
          "base_uri": "https://localhost:8080/",
          "height": 204
        },
        "outputId": "fedeee96-9e51-44c8-c9f2-2bcfdcdc4961"
      },
      "source": [
        "display(df.head())"
      ],
      "execution_count": 59,
      "outputs": [
        {
          "output_type": "display_data",
          "data": {
            "text/html": [
              "<div>\n",
              "<style scoped>\n",
              "    .dataframe tbody tr th:only-of-type {\n",
              "        vertical-align: middle;\n",
              "    }\n",
              "\n",
              "    .dataframe tbody tr th {\n",
              "        vertical-align: top;\n",
              "    }\n",
              "\n",
              "    .dataframe thead th {\n",
              "        text-align: right;\n",
              "    }\n",
              "</style>\n",
              "<table border=\"1\" class=\"dataframe\">\n",
              "  <thead>\n",
              "    <tr style=\"text-align: right;\">\n",
              "      <th></th>\n",
              "      <th>mpg</th>\n",
              "      <th>cylinders</th>\n",
              "      <th>displacement</th>\n",
              "      <th>horsepower</th>\n",
              "      <th>weight</th>\n",
              "      <th>acceleration</th>\n",
              "      <th>year</th>\n",
              "      <th>origin</th>\n",
              "      <th>name</th>\n",
              "    </tr>\n",
              "  </thead>\n",
              "  <tbody>\n",
              "    <tr>\n",
              "      <th>0</th>\n",
              "      <td>18.0</td>\n",
              "      <td>8</td>\n",
              "      <td>307.0</td>\n",
              "      <td>130</td>\n",
              "      <td>3504</td>\n",
              "      <td>12.0</td>\n",
              "      <td>70</td>\n",
              "      <td>1</td>\n",
              "      <td>chevrolet chevelle malibu</td>\n",
              "    </tr>\n",
              "    <tr>\n",
              "      <th>1</th>\n",
              "      <td>15.0</td>\n",
              "      <td>8</td>\n",
              "      <td>350.0</td>\n",
              "      <td>165</td>\n",
              "      <td>3693</td>\n",
              "      <td>11.5</td>\n",
              "      <td>70</td>\n",
              "      <td>1</td>\n",
              "      <td>buick skylark 320</td>\n",
              "    </tr>\n",
              "    <tr>\n",
              "      <th>2</th>\n",
              "      <td>18.0</td>\n",
              "      <td>8</td>\n",
              "      <td>318.0</td>\n",
              "      <td>150</td>\n",
              "      <td>3436</td>\n",
              "      <td>11.0</td>\n",
              "      <td>70</td>\n",
              "      <td>1</td>\n",
              "      <td>plymouth satellite</td>\n",
              "    </tr>\n",
              "    <tr>\n",
              "      <th>3</th>\n",
              "      <td>16.0</td>\n",
              "      <td>8</td>\n",
              "      <td>304.0</td>\n",
              "      <td>150</td>\n",
              "      <td>3433</td>\n",
              "      <td>12.0</td>\n",
              "      <td>70</td>\n",
              "      <td>1</td>\n",
              "      <td>amc rebel sst</td>\n",
              "    </tr>\n",
              "    <tr>\n",
              "      <th>4</th>\n",
              "      <td>17.0</td>\n",
              "      <td>8</td>\n",
              "      <td>302.0</td>\n",
              "      <td>140</td>\n",
              "      <td>3449</td>\n",
              "      <td>10.5</td>\n",
              "      <td>70</td>\n",
              "      <td>1</td>\n",
              "      <td>ford torino</td>\n",
              "    </tr>\n",
              "  </tbody>\n",
              "</table>\n",
              "</div>"
            ],
            "text/plain": [
              "    mpg  cylinders  displacement  ... year  origin                       name\n",
              "0  18.0          8         307.0  ...   70       1  chevrolet chevelle malibu\n",
              "1  15.0          8         350.0  ...   70       1          buick skylark 320\n",
              "2  18.0          8         318.0  ...   70       1         plymouth satellite\n",
              "3  16.0          8         304.0  ...   70       1              amc rebel sst\n",
              "4  17.0          8         302.0  ...   70       1                ford torino\n",
              "\n",
              "[5 rows x 9 columns]"
            ]
          },
          "metadata": {
            "tags": []
          }
        }
      ]
    },
    {
      "cell_type": "code",
      "metadata": {
        "id": "0w928jX7gAi8",
        "colab_type": "code",
        "colab": {
          "base_uri": "https://localhost:8080/",
          "height": 51
        },
        "outputId": "bcf2f85e-a921-4082-9293-fb8c27e315ac"
      },
      "source": [
        "df.columns.values"
      ],
      "execution_count": 62,
      "outputs": [
        {
          "output_type": "execute_result",
          "data": {
            "text/plain": [
              "array(['mpg', 'cylinders', 'displacement', 'horsepower', 'weight',\n",
              "       'acceleration', 'year', 'origin', 'name'], dtype=object)"
            ]
          },
          "metadata": {
            "tags": []
          },
          "execution_count": 62
        }
      ]
    },
    {
      "cell_type": "code",
      "metadata": {
        "id": "SHla76tOgm2P",
        "colab_type": "code",
        "colab": {
          "base_uri": "https://localhost:8080/",
          "height": 204
        },
        "outputId": "2397b02f-9efc-4a1b-efb2-a7751c4d4eb0"
      },
      "source": [
        "df.select_dtypes(include = ['int','float'], exclude = 'bool').head()"
      ],
      "execution_count": 11,
      "outputs": [
        {
          "output_type": "execute_result",
          "data": {
            "text/html": [
              "<div>\n",
              "<style scoped>\n",
              "    .dataframe tbody tr th:only-of-type {\n",
              "        vertical-align: middle;\n",
              "    }\n",
              "\n",
              "    .dataframe tbody tr th {\n",
              "        vertical-align: top;\n",
              "    }\n",
              "\n",
              "    .dataframe thead th {\n",
              "        text-align: right;\n",
              "    }\n",
              "</style>\n",
              "<table border=\"1\" class=\"dataframe\">\n",
              "  <thead>\n",
              "    <tr style=\"text-align: right;\">\n",
              "      <th></th>\n",
              "      <th>mpg</th>\n",
              "      <th>cylinders</th>\n",
              "      <th>displacement</th>\n",
              "      <th>weight</th>\n",
              "      <th>acceleration</th>\n",
              "      <th>year</th>\n",
              "      <th>origin</th>\n",
              "    </tr>\n",
              "  </thead>\n",
              "  <tbody>\n",
              "    <tr>\n",
              "      <th>0</th>\n",
              "      <td>18.0</td>\n",
              "      <td>8</td>\n",
              "      <td>307.0</td>\n",
              "      <td>3504</td>\n",
              "      <td>12.0</td>\n",
              "      <td>70</td>\n",
              "      <td>1</td>\n",
              "    </tr>\n",
              "    <tr>\n",
              "      <th>1</th>\n",
              "      <td>15.0</td>\n",
              "      <td>8</td>\n",
              "      <td>350.0</td>\n",
              "      <td>3693</td>\n",
              "      <td>11.5</td>\n",
              "      <td>70</td>\n",
              "      <td>1</td>\n",
              "    </tr>\n",
              "    <tr>\n",
              "      <th>2</th>\n",
              "      <td>18.0</td>\n",
              "      <td>8</td>\n",
              "      <td>318.0</td>\n",
              "      <td>3436</td>\n",
              "      <td>11.0</td>\n",
              "      <td>70</td>\n",
              "      <td>1</td>\n",
              "    </tr>\n",
              "    <tr>\n",
              "      <th>3</th>\n",
              "      <td>16.0</td>\n",
              "      <td>8</td>\n",
              "      <td>304.0</td>\n",
              "      <td>3433</td>\n",
              "      <td>12.0</td>\n",
              "      <td>70</td>\n",
              "      <td>1</td>\n",
              "    </tr>\n",
              "    <tr>\n",
              "      <th>4</th>\n",
              "      <td>17.0</td>\n",
              "      <td>8</td>\n",
              "      <td>302.0</td>\n",
              "      <td>3449</td>\n",
              "      <td>10.5</td>\n",
              "      <td>70</td>\n",
              "      <td>1</td>\n",
              "    </tr>\n",
              "  </tbody>\n",
              "</table>\n",
              "</div>"
            ],
            "text/plain": [
              "    mpg  cylinders  displacement  weight  acceleration  year  origin\n",
              "0  18.0          8         307.0    3504          12.0    70       1\n",
              "1  15.0          8         350.0    3693          11.5    70       1\n",
              "2  18.0          8         318.0    3436          11.0    70       1\n",
              "3  16.0          8         304.0    3433          12.0    70       1\n",
              "4  17.0          8         302.0    3449          10.5    70       1"
            ]
          },
          "metadata": {
            "tags": []
          },
          "execution_count": 11
        }
      ]
    },
    {
      "cell_type": "code",
      "metadata": {
        "id": "SfLVqhxFhv9F",
        "colab_type": "code",
        "colab": {}
      },
      "source": [
        "def col_summary(df):\n",
        "  \n",
        "  df = df.select_dtypes(include=['int', 'float'])\n",
        "  headers = df.columns.values\n",
        "  summary = []\n",
        "  for field in headers:\n",
        "    summary.append(\n",
        "        {\n",
        "            'aname': field,\n",
        "            'mean':df[field].mean(),\n",
        "            'median':df[field].median(),\n",
        "            'sdev':df[field].std(),\n",
        "            'var': df[field].var()\n",
        "        }) \n",
        "  \n",
        "  return summary"
      ],
      "execution_count": 0,
      "outputs": []
    },
    {
      "cell_type": "code",
      "metadata": {
        "id": "BdUlVD4yi7iL",
        "colab_type": "code",
        "colab": {
          "base_uri": "https://localhost:8080/",
          "height": 612
        },
        "outputId": "3990bce8-b196-4e8c-8deb-aab297916a28"
      },
      "source": [
        "col_summary(df)"
      ],
      "execution_count": 61,
      "outputs": [
        {
          "output_type": "execute_result",
          "data": {
            "text/plain": [
              "[{'aname': 'mpg',\n",
              "  'mean': 23.514572864321615,\n",
              "  'median': 23.0,\n",
              "  'sdev': 7.815984312565782,\n",
              "  'var': 61.089610774274405},\n",
              " {'aname': 'cylinders',\n",
              "  'mean': 5.454773869346734,\n",
              "  'median': 4.0,\n",
              "  'sdev': 1.7010042445332094,\n",
              "  'var': 2.8934154399199943},\n",
              " {'aname': 'displacement',\n",
              "  'mean': 193.42587939698493,\n",
              "  'median': 148.5,\n",
              "  'sdev': 104.26983817119581,\n",
              "  'var': 10872.199152247364},\n",
              " {'aname': 'weight',\n",
              "  'mean': 2970.424623115578,\n",
              "  'median': 2803.5,\n",
              "  'sdev': 846.8417741973271,\n",
              "  'var': 717140.9905256768},\n",
              " {'aname': 'acceleration',\n",
              "  'mean': 15.568090452261291,\n",
              "  'median': 15.5,\n",
              "  'sdev': 2.7576889298126757,\n",
              "  'var': 7.604848233611381},\n",
              " {'aname': 'year',\n",
              "  'mean': 76.01005025125629,\n",
              "  'median': 76.0,\n",
              "  'sdev': 3.697626646732623,\n",
              "  'var': 13.672442818627143},\n",
              " {'aname': 'origin',\n",
              "  'mean': 1.5728643216080402,\n",
              "  'median': 1.0,\n",
              "  'sdev': 0.8020548777266163,\n",
              "  'var': 0.6432920268850575}]"
            ]
          },
          "metadata": {
            "tags": []
          },
          "execution_count": 61
        }
      ]
    },
    {
      "cell_type": "code",
      "metadata": {
        "id": "oyhCmX-Oo6-k",
        "colab_type": "code",
        "colab": {
          "base_uri": "https://localhost:8080/",
          "height": 577
        },
        "outputId": "6143e72c-c797-4d8d-d087-df64cbb8ff66"
      },
      "source": [
        "df2 = pd.DataFrame(col_summary(df))\n",
        "display(df2)"
      ],
      "execution_count": 106,
      "outputs": [
        {
          "output_type": "display_data",
          "data": {
            "text/html": [
              "<div>\n",
              "<style scoped>\n",
              "    .dataframe tbody tr th:only-of-type {\n",
              "        vertical-align: middle;\n",
              "    }\n",
              "\n",
              "    .dataframe tbody tr th {\n",
              "        vertical-align: top;\n",
              "    }\n",
              "\n",
              "    .dataframe thead th {\n",
              "        text-align: right;\n",
              "    }\n",
              "</style>\n",
              "<table border=\"1\" class=\"dataframe\">\n",
              "  <thead>\n",
              "    <tr style=\"text-align: right;\">\n",
              "      <th></th>\n",
              "      <th>aname</th>\n",
              "      <th>mean</th>\n",
              "      <th>median</th>\n",
              "      <th>sdev</th>\n",
              "      <th>var</th>\n",
              "    </tr>\n",
              "  </thead>\n",
              "  <tbody>\n",
              "    <tr>\n",
              "      <th>0</th>\n",
              "      <td>mpg</td>\n",
              "      <td>23.514573</td>\n",
              "      <td>23.0</td>\n",
              "      <td>7.815984</td>\n",
              "      <td>61.089611</td>\n",
              "    </tr>\n",
              "    <tr>\n",
              "      <th>1</th>\n",
              "      <td>cylinders</td>\n",
              "      <td>5.454774</td>\n",
              "      <td>4.0</td>\n",
              "      <td>1.701004</td>\n",
              "      <td>2.893415</td>\n",
              "    </tr>\n",
              "    <tr>\n",
              "      <th>2</th>\n",
              "      <td>displacement</td>\n",
              "      <td>193.425879</td>\n",
              "      <td>148.5</td>\n",
              "      <td>104.269838</td>\n",
              "      <td>10872.199152</td>\n",
              "    </tr>\n",
              "    <tr>\n",
              "      <th>3</th>\n",
              "      <td>horsepower</td>\n",
              "      <td>104.469388</td>\n",
              "      <td>93.5</td>\n",
              "      <td>38.491160</td>\n",
              "      <td>1481.569393</td>\n",
              "    </tr>\n",
              "    <tr>\n",
              "      <th>4</th>\n",
              "      <td>weight</td>\n",
              "      <td>2970.424623</td>\n",
              "      <td>2803.5</td>\n",
              "      <td>846.841774</td>\n",
              "      <td>717140.990526</td>\n",
              "    </tr>\n",
              "    <tr>\n",
              "      <th>5</th>\n",
              "      <td>acceleration</td>\n",
              "      <td>15.568090</td>\n",
              "      <td>15.5</td>\n",
              "      <td>2.757689</td>\n",
              "      <td>7.604848</td>\n",
              "    </tr>\n",
              "    <tr>\n",
              "      <th>6</th>\n",
              "      <td>year</td>\n",
              "      <td>76.010050</td>\n",
              "      <td>76.0</td>\n",
              "      <td>3.697627</td>\n",
              "      <td>13.672443</td>\n",
              "    </tr>\n",
              "    <tr>\n",
              "      <th>7</th>\n",
              "      <td>origin</td>\n",
              "      <td>1.572864</td>\n",
              "      <td>1.0</td>\n",
              "      <td>0.802055</td>\n",
              "      <td>0.643292</td>\n",
              "    </tr>\n",
              "  </tbody>\n",
              "</table>\n",
              "</div>"
            ],
            "text/plain": [
              "          aname         mean  median        sdev            var\n",
              "0           mpg    23.514573    23.0    7.815984      61.089611\n",
              "1     cylinders     5.454774     4.0    1.701004       2.893415\n",
              "2  displacement   193.425879   148.5  104.269838   10872.199152\n",
              "3    horsepower   104.469388    93.5   38.491160    1481.569393\n",
              "4        weight  2970.424623  2803.5  846.841774  717140.990526\n",
              "5  acceleration    15.568090    15.5    2.757689       7.604848\n",
              "6          year    76.010050    76.0    3.697627      13.672443\n",
              "7        origin     1.572864     1.0    0.802055       0.643292"
            ]
          },
          "metadata": {
            "tags": []
          }
        },
        {
          "output_type": "display_data",
          "data": {
            "text/html": [
              "<div>\n",
              "<style scoped>\n",
              "    .dataframe tbody tr th:only-of-type {\n",
              "        vertical-align: middle;\n",
              "    }\n",
              "\n",
              "    .dataframe tbody tr th {\n",
              "        vertical-align: top;\n",
              "    }\n",
              "\n",
              "    .dataframe thead th {\n",
              "        text-align: right;\n",
              "    }\n",
              "</style>\n",
              "<table border=\"1\" class=\"dataframe\">\n",
              "  <thead>\n",
              "    <tr style=\"text-align: right;\">\n",
              "      <th></th>\n",
              "      <th>aname</th>\n",
              "      <th>mean</th>\n",
              "      <th>median</th>\n",
              "      <th>sdev</th>\n",
              "      <th>var</th>\n",
              "    </tr>\n",
              "  </thead>\n",
              "  <tbody>\n",
              "    <tr>\n",
              "      <th>0</th>\n",
              "      <td>mpg</td>\n",
              "      <td>23.514573</td>\n",
              "      <td>23.0</td>\n",
              "      <td>7.815984</td>\n",
              "      <td>61.089611</td>\n",
              "    </tr>\n",
              "    <tr>\n",
              "      <th>1</th>\n",
              "      <td>cylinders</td>\n",
              "      <td>5.454774</td>\n",
              "      <td>4.0</td>\n",
              "      <td>1.701004</td>\n",
              "      <td>2.893415</td>\n",
              "    </tr>\n",
              "    <tr>\n",
              "      <th>2</th>\n",
              "      <td>displacement</td>\n",
              "      <td>193.425879</td>\n",
              "      <td>148.5</td>\n",
              "      <td>104.269838</td>\n",
              "      <td>10872.199152</td>\n",
              "    </tr>\n",
              "    <tr>\n",
              "      <th>3</th>\n",
              "      <td>horsepower</td>\n",
              "      <td>104.469388</td>\n",
              "      <td>93.5</td>\n",
              "      <td>38.491160</td>\n",
              "      <td>1481.569393</td>\n",
              "    </tr>\n",
              "    <tr>\n",
              "      <th>4</th>\n",
              "      <td>weight</td>\n",
              "      <td>2970.424623</td>\n",
              "      <td>2803.5</td>\n",
              "      <td>846.841774</td>\n",
              "      <td>717140.990526</td>\n",
              "    </tr>\n",
              "    <tr>\n",
              "      <th>5</th>\n",
              "      <td>acceleration</td>\n",
              "      <td>15.568090</td>\n",
              "      <td>15.5</td>\n",
              "      <td>2.757689</td>\n",
              "      <td>7.604848</td>\n",
              "    </tr>\n",
              "    <tr>\n",
              "      <th>6</th>\n",
              "      <td>year</td>\n",
              "      <td>76.010050</td>\n",
              "      <td>76.0</td>\n",
              "      <td>3.697627</td>\n",
              "      <td>13.672443</td>\n",
              "    </tr>\n",
              "    <tr>\n",
              "      <th>7</th>\n",
              "      <td>origin</td>\n",
              "      <td>1.572864</td>\n",
              "      <td>1.0</td>\n",
              "      <td>0.802055</td>\n",
              "      <td>0.643292</td>\n",
              "    </tr>\n",
              "  </tbody>\n",
              "</table>\n",
              "</div>"
            ],
            "text/plain": [
              "          aname         mean  median        sdev            var\n",
              "0           mpg    23.514573    23.0    7.815984      61.089611\n",
              "1     cylinders     5.454774     4.0    1.701004       2.893415\n",
              "2  displacement   193.425879   148.5  104.269838   10872.199152\n",
              "3    horsepower   104.469388    93.5   38.491160    1481.569393\n",
              "4        weight  2970.424623  2803.5  846.841774  717140.990526\n",
              "5  acceleration    15.568090    15.5    2.757689       7.604848\n",
              "6          year    76.010050    76.0    3.697627      13.672443\n",
              "7        origin     1.572864     1.0    0.802055       0.643292"
            ]
          },
          "metadata": {
            "tags": []
          }
        }
      ]
    },
    {
      "cell_type": "code",
      "metadata": {
        "id": "lKPVgpX3qa0I",
        "colab_type": "code",
        "colab": {
          "base_uri": "https://localhost:8080/",
          "height": 297
        },
        "outputId": "5a07eb70-8426-445f-feea-ba8562e34612"
      },
      "source": [
        "df.describe()"
      ],
      "execution_count": 32,
      "outputs": [
        {
          "output_type": "execute_result",
          "data": {
            "text/html": [
              "<div>\n",
              "<style scoped>\n",
              "    .dataframe tbody tr th:only-of-type {\n",
              "        vertical-align: middle;\n",
              "    }\n",
              "\n",
              "    .dataframe tbody tr th {\n",
              "        vertical-align: top;\n",
              "    }\n",
              "\n",
              "    .dataframe thead th {\n",
              "        text-align: right;\n",
              "    }\n",
              "</style>\n",
              "<table border=\"1\" class=\"dataframe\">\n",
              "  <thead>\n",
              "    <tr style=\"text-align: right;\">\n",
              "      <th></th>\n",
              "      <th>mpg</th>\n",
              "      <th>cylinders</th>\n",
              "      <th>displacement</th>\n",
              "      <th>weight</th>\n",
              "      <th>acceleration</th>\n",
              "      <th>year</th>\n",
              "      <th>origin</th>\n",
              "    </tr>\n",
              "  </thead>\n",
              "  <tbody>\n",
              "    <tr>\n",
              "      <th>count</th>\n",
              "      <td>398.000000</td>\n",
              "      <td>398.000000</td>\n",
              "      <td>398.000000</td>\n",
              "      <td>398.000000</td>\n",
              "      <td>398.000000</td>\n",
              "      <td>398.000000</td>\n",
              "      <td>398.000000</td>\n",
              "    </tr>\n",
              "    <tr>\n",
              "      <th>mean</th>\n",
              "      <td>23.514573</td>\n",
              "      <td>5.454774</td>\n",
              "      <td>193.425879</td>\n",
              "      <td>2970.424623</td>\n",
              "      <td>15.568090</td>\n",
              "      <td>76.010050</td>\n",
              "      <td>1.572864</td>\n",
              "    </tr>\n",
              "    <tr>\n",
              "      <th>std</th>\n",
              "      <td>7.815984</td>\n",
              "      <td>1.701004</td>\n",
              "      <td>104.269838</td>\n",
              "      <td>846.841774</td>\n",
              "      <td>2.757689</td>\n",
              "      <td>3.697627</td>\n",
              "      <td>0.802055</td>\n",
              "    </tr>\n",
              "    <tr>\n",
              "      <th>min</th>\n",
              "      <td>9.000000</td>\n",
              "      <td>3.000000</td>\n",
              "      <td>68.000000</td>\n",
              "      <td>1613.000000</td>\n",
              "      <td>8.000000</td>\n",
              "      <td>70.000000</td>\n",
              "      <td>1.000000</td>\n",
              "    </tr>\n",
              "    <tr>\n",
              "      <th>25%</th>\n",
              "      <td>17.500000</td>\n",
              "      <td>4.000000</td>\n",
              "      <td>104.250000</td>\n",
              "      <td>2223.750000</td>\n",
              "      <td>13.825000</td>\n",
              "      <td>73.000000</td>\n",
              "      <td>1.000000</td>\n",
              "    </tr>\n",
              "    <tr>\n",
              "      <th>50%</th>\n",
              "      <td>23.000000</td>\n",
              "      <td>4.000000</td>\n",
              "      <td>148.500000</td>\n",
              "      <td>2803.500000</td>\n",
              "      <td>15.500000</td>\n",
              "      <td>76.000000</td>\n",
              "      <td>1.000000</td>\n",
              "    </tr>\n",
              "    <tr>\n",
              "      <th>75%</th>\n",
              "      <td>29.000000</td>\n",
              "      <td>8.000000</td>\n",
              "      <td>262.000000</td>\n",
              "      <td>3608.000000</td>\n",
              "      <td>17.175000</td>\n",
              "      <td>79.000000</td>\n",
              "      <td>2.000000</td>\n",
              "    </tr>\n",
              "    <tr>\n",
              "      <th>max</th>\n",
              "      <td>46.600000</td>\n",
              "      <td>8.000000</td>\n",
              "      <td>455.000000</td>\n",
              "      <td>5140.000000</td>\n",
              "      <td>24.800000</td>\n",
              "      <td>82.000000</td>\n",
              "      <td>3.000000</td>\n",
              "    </tr>\n",
              "  </tbody>\n",
              "</table>\n",
              "</div>"
            ],
            "text/plain": [
              "              mpg   cylinders  ...        year      origin\n",
              "count  398.000000  398.000000  ...  398.000000  398.000000\n",
              "mean    23.514573    5.454774  ...   76.010050    1.572864\n",
              "std      7.815984    1.701004  ...    3.697627    0.802055\n",
              "min      9.000000    3.000000  ...   70.000000    1.000000\n",
              "25%     17.500000    4.000000  ...   73.000000    1.000000\n",
              "50%     23.000000    4.000000  ...   76.000000    1.000000\n",
              "75%     29.000000    8.000000  ...   79.000000    2.000000\n",
              "max     46.600000    8.000000  ...   82.000000    3.000000\n",
              "\n",
              "[8 rows x 7 columns]"
            ]
          },
          "metadata": {
            "tags": []
          },
          "execution_count": 32
        }
      ]
    },
    {
      "cell_type": "markdown",
      "metadata": {
        "id": "cUYNpBRLxqlm",
        "colab_type": "text"
      },
      "source": [
        "INDEXING"
      ]
    },
    {
      "cell_type": "code",
      "metadata": {
        "id": "8QqZhgHExp_f",
        "colab_type": "code",
        "colab": {
          "base_uri": "https://localhost:8080/",
          "height": 419
        },
        "outputId": "f5c84c83-4a11-4b2e-c764-d85c60fd3422"
      },
      "source": [
        "df[['mpg','year']]"
      ],
      "execution_count": 85,
      "outputs": [
        {
          "output_type": "execute_result",
          "data": {
            "text/html": [
              "<div>\n",
              "<style scoped>\n",
              "    .dataframe tbody tr th:only-of-type {\n",
              "        vertical-align: middle;\n",
              "    }\n",
              "\n",
              "    .dataframe tbody tr th {\n",
              "        vertical-align: top;\n",
              "    }\n",
              "\n",
              "    .dataframe thead th {\n",
              "        text-align: right;\n",
              "    }\n",
              "</style>\n",
              "<table border=\"1\" class=\"dataframe\">\n",
              "  <thead>\n",
              "    <tr style=\"text-align: right;\">\n",
              "      <th></th>\n",
              "      <th>mpg</th>\n",
              "      <th>year</th>\n",
              "    </tr>\n",
              "  </thead>\n",
              "  <tbody>\n",
              "    <tr>\n",
              "      <th>0</th>\n",
              "      <td>18.0</td>\n",
              "      <td>70</td>\n",
              "    </tr>\n",
              "    <tr>\n",
              "      <th>1</th>\n",
              "      <td>15.0</td>\n",
              "      <td>70</td>\n",
              "    </tr>\n",
              "    <tr>\n",
              "      <th>2</th>\n",
              "      <td>18.0</td>\n",
              "      <td>70</td>\n",
              "    </tr>\n",
              "    <tr>\n",
              "      <th>3</th>\n",
              "      <td>16.0</td>\n",
              "      <td>70</td>\n",
              "    </tr>\n",
              "    <tr>\n",
              "      <th>4</th>\n",
              "      <td>17.0</td>\n",
              "      <td>70</td>\n",
              "    </tr>\n",
              "    <tr>\n",
              "      <th>...</th>\n",
              "      <td>...</td>\n",
              "      <td>...</td>\n",
              "    </tr>\n",
              "    <tr>\n",
              "      <th>393</th>\n",
              "      <td>27.0</td>\n",
              "      <td>82</td>\n",
              "    </tr>\n",
              "    <tr>\n",
              "      <th>394</th>\n",
              "      <td>44.0</td>\n",
              "      <td>82</td>\n",
              "    </tr>\n",
              "    <tr>\n",
              "      <th>395</th>\n",
              "      <td>32.0</td>\n",
              "      <td>82</td>\n",
              "    </tr>\n",
              "    <tr>\n",
              "      <th>396</th>\n",
              "      <td>28.0</td>\n",
              "      <td>82</td>\n",
              "    </tr>\n",
              "    <tr>\n",
              "      <th>397</th>\n",
              "      <td>31.0</td>\n",
              "      <td>82</td>\n",
              "    </tr>\n",
              "  </tbody>\n",
              "</table>\n",
              "<p>398 rows × 2 columns</p>\n",
              "</div>"
            ],
            "text/plain": [
              "      mpg  year\n",
              "0    18.0    70\n",
              "1    15.0    70\n",
              "2    18.0    70\n",
              "3    16.0    70\n",
              "4    17.0    70\n",
              "..    ...   ...\n",
              "393  27.0    82\n",
              "394  44.0    82\n",
              "395  32.0    82\n",
              "396  28.0    82\n",
              "397  31.0    82\n",
              "\n",
              "[398 rows x 2 columns]"
            ]
          },
          "metadata": {
            "tags": []
          },
          "execution_count": 85
        }
      ]
    },
    {
      "cell_type": "code",
      "metadata": {
        "id": "pGp3jiyVx4x5",
        "colab_type": "code",
        "colab": {
          "base_uri": "https://localhost:8080/",
          "height": 436
        },
        "outputId": "802bafa9-df61-438e-92c3-150c8130ef9f"
      },
      "source": [
        "df[df['year']>20]"
      ],
      "execution_count": 93,
      "outputs": [
        {
          "output_type": "stream",
          "text": [
            "ERROR! Session/line number was not unique in database. History logging moved to new session 63\n"
          ],
          "name": "stdout"
        },
        {
          "output_type": "execute_result",
          "data": {
            "text/html": [
              "<div>\n",
              "<style scoped>\n",
              "    .dataframe tbody tr th:only-of-type {\n",
              "        vertical-align: middle;\n",
              "    }\n",
              "\n",
              "    .dataframe tbody tr th {\n",
              "        vertical-align: top;\n",
              "    }\n",
              "\n",
              "    .dataframe thead th {\n",
              "        text-align: right;\n",
              "    }\n",
              "</style>\n",
              "<table border=\"1\" class=\"dataframe\">\n",
              "  <thead>\n",
              "    <tr style=\"text-align: right;\">\n",
              "      <th></th>\n",
              "      <th>mpg</th>\n",
              "      <th>cylinders</th>\n",
              "      <th>displacement</th>\n",
              "      <th>horsepower</th>\n",
              "      <th>weight</th>\n",
              "      <th>acceleration</th>\n",
              "      <th>year</th>\n",
              "      <th>origin</th>\n",
              "      <th>name</th>\n",
              "    </tr>\n",
              "  </thead>\n",
              "  <tbody>\n",
              "    <tr>\n",
              "      <th>0</th>\n",
              "      <td>18.0</td>\n",
              "      <td>8</td>\n",
              "      <td>307.0</td>\n",
              "      <td>130</td>\n",
              "      <td>3504</td>\n",
              "      <td>12.0</td>\n",
              "      <td>70</td>\n",
              "      <td>1</td>\n",
              "      <td>chevrolet chevelle malibu</td>\n",
              "    </tr>\n",
              "    <tr>\n",
              "      <th>1</th>\n",
              "      <td>15.0</td>\n",
              "      <td>8</td>\n",
              "      <td>350.0</td>\n",
              "      <td>165</td>\n",
              "      <td>3693</td>\n",
              "      <td>11.5</td>\n",
              "      <td>70</td>\n",
              "      <td>1</td>\n",
              "      <td>buick skylark 320</td>\n",
              "    </tr>\n",
              "    <tr>\n",
              "      <th>2</th>\n",
              "      <td>18.0</td>\n",
              "      <td>8</td>\n",
              "      <td>318.0</td>\n",
              "      <td>150</td>\n",
              "      <td>3436</td>\n",
              "      <td>11.0</td>\n",
              "      <td>70</td>\n",
              "      <td>1</td>\n",
              "      <td>plymouth satellite</td>\n",
              "    </tr>\n",
              "    <tr>\n",
              "      <th>3</th>\n",
              "      <td>16.0</td>\n",
              "      <td>8</td>\n",
              "      <td>304.0</td>\n",
              "      <td>150</td>\n",
              "      <td>3433</td>\n",
              "      <td>12.0</td>\n",
              "      <td>70</td>\n",
              "      <td>1</td>\n",
              "      <td>amc rebel sst</td>\n",
              "    </tr>\n",
              "    <tr>\n",
              "      <th>4</th>\n",
              "      <td>17.0</td>\n",
              "      <td>8</td>\n",
              "      <td>302.0</td>\n",
              "      <td>140</td>\n",
              "      <td>3449</td>\n",
              "      <td>10.5</td>\n",
              "      <td>70</td>\n",
              "      <td>1</td>\n",
              "      <td>ford torino</td>\n",
              "    </tr>\n",
              "    <tr>\n",
              "      <th>...</th>\n",
              "      <td>...</td>\n",
              "      <td>...</td>\n",
              "      <td>...</td>\n",
              "      <td>...</td>\n",
              "      <td>...</td>\n",
              "      <td>...</td>\n",
              "      <td>...</td>\n",
              "      <td>...</td>\n",
              "      <td>...</td>\n",
              "    </tr>\n",
              "    <tr>\n",
              "      <th>393</th>\n",
              "      <td>27.0</td>\n",
              "      <td>4</td>\n",
              "      <td>140.0</td>\n",
              "      <td>86</td>\n",
              "      <td>2790</td>\n",
              "      <td>15.6</td>\n",
              "      <td>82</td>\n",
              "      <td>1</td>\n",
              "      <td>ford mustang gl</td>\n",
              "    </tr>\n",
              "    <tr>\n",
              "      <th>394</th>\n",
              "      <td>44.0</td>\n",
              "      <td>4</td>\n",
              "      <td>97.0</td>\n",
              "      <td>52</td>\n",
              "      <td>2130</td>\n",
              "      <td>24.6</td>\n",
              "      <td>82</td>\n",
              "      <td>2</td>\n",
              "      <td>vw pickup</td>\n",
              "    </tr>\n",
              "    <tr>\n",
              "      <th>395</th>\n",
              "      <td>32.0</td>\n",
              "      <td>4</td>\n",
              "      <td>135.0</td>\n",
              "      <td>84</td>\n",
              "      <td>2295</td>\n",
              "      <td>11.6</td>\n",
              "      <td>82</td>\n",
              "      <td>1</td>\n",
              "      <td>dodge rampage</td>\n",
              "    </tr>\n",
              "    <tr>\n",
              "      <th>396</th>\n",
              "      <td>28.0</td>\n",
              "      <td>4</td>\n",
              "      <td>120.0</td>\n",
              "      <td>79</td>\n",
              "      <td>2625</td>\n",
              "      <td>18.6</td>\n",
              "      <td>82</td>\n",
              "      <td>1</td>\n",
              "      <td>ford ranger</td>\n",
              "    </tr>\n",
              "    <tr>\n",
              "      <th>397</th>\n",
              "      <td>31.0</td>\n",
              "      <td>4</td>\n",
              "      <td>119.0</td>\n",
              "      <td>82</td>\n",
              "      <td>2720</td>\n",
              "      <td>19.4</td>\n",
              "      <td>82</td>\n",
              "      <td>1</td>\n",
              "      <td>chevy s-10</td>\n",
              "    </tr>\n",
              "  </tbody>\n",
              "</table>\n",
              "<p>398 rows × 9 columns</p>\n",
              "</div>"
            ],
            "text/plain": [
              "      mpg  cylinders  displacement  ... year  origin                       name\n",
              "0    18.0          8         307.0  ...   70       1  chevrolet chevelle malibu\n",
              "1    15.0          8         350.0  ...   70       1          buick skylark 320\n",
              "2    18.0          8         318.0  ...   70       1         plymouth satellite\n",
              "3    16.0          8         304.0  ...   70       1              amc rebel sst\n",
              "4    17.0          8         302.0  ...   70       1                ford torino\n",
              "..    ...        ...           ...  ...  ...     ...                        ...\n",
              "393  27.0          4         140.0  ...   82       1            ford mustang gl\n",
              "394  44.0          4          97.0  ...   82       2                  vw pickup\n",
              "395  32.0          4         135.0  ...   82       1              dodge rampage\n",
              "396  28.0          4         120.0  ...   82       1                ford ranger\n",
              "397  31.0          4         119.0  ...   82       1                 chevy s-10\n",
              "\n",
              "[398 rows x 9 columns]"
            ]
          },
          "metadata": {
            "tags": []
          },
          "execution_count": 93
        }
      ]
    },
    {
      "cell_type": "markdown",
      "metadata": {
        "id": "gs69BHuDq6be",
        "colab_type": "text"
      },
      "source": [
        "### MISSING VALUES"
      ]
    },
    {
      "cell_type": "code",
      "metadata": {
        "id": "zqgLsmEUr1UJ",
        "colab_type": "code",
        "colab": {}
      },
      "source": [
        "df = pd.read_csv(\"https://data.heatonresearch.com/data/t81-558/auto-mpg.csv\", na_values=['NA','NaN', '?'])"
      ],
      "execution_count": 0,
      "outputs": []
    },
    {
      "cell_type": "code",
      "metadata": {
        "id": "ZgGzJgTAsAIB",
        "colab_type": "code",
        "colab": {
          "base_uri": "https://localhost:8080/",
          "height": 34
        },
        "outputId": "dfa89be7-b9bc-4327-e704-53c2931d8bcb"
      },
      "source": [
        "pd.isnull(df['horsepower']).values.any()"
      ],
      "execution_count": 80,
      "outputs": [
        {
          "output_type": "execute_result",
          "data": {
            "text/plain": [
              "True"
            ]
          },
          "metadata": {
            "tags": []
          },
          "execution_count": 80
        }
      ]
    },
    {
      "cell_type": "code",
      "metadata": {
        "id": "K5-P_mQwrCt9",
        "colab_type": "code",
        "colab": {}
      },
      "source": [
        "df['horsepower'] = df['horsepower'].fillna(df['horsepower'].median())"
      ],
      "execution_count": 0,
      "outputs": []
    },
    {
      "cell_type": "code",
      "metadata": {
        "id": "69L8OxiCs6ZP",
        "colab_type": "code",
        "colab": {}
      },
      "source": [
        "df = df.dropna()"
      ],
      "execution_count": 0,
      "outputs": []
    },
    {
      "cell_type": "code",
      "metadata": {
        "id": "daqVdgiE1T0P",
        "colab_type": "code",
        "colab": {}
      },
      "source": [
        "def remove_outliers(df, name, std_patiance):\n",
        "    \n",
        "    return df"
      ],
      "execution_count": 0,
      "outputs": []
    },
    {
      "cell_type": "code",
      "metadata": {
        "id": "1GdT6NyX3M93",
        "colab_type": "code",
        "colab": {}
      },
      "source": [
        "df = remove_outliers(df,'horsepower', 2)"
      ],
      "execution_count": 0,
      "outputs": []
    },
    {
      "cell_type": "code",
      "metadata": {
        "id": "EvuxLW4w4rXN",
        "colab_type": "code",
        "colab": {}
      },
      "source": [
        "def remove_outliers(df, std_patiance=2):\n",
        "  names = df.select_dtypes(include=['int', 'float']).columns.values\n",
        "  for name in names:\n",
        "    std = df[name].std()\n",
        "    mean = df[name].mean()\n",
        "    rows_to_drop = df.index[np.abs((df[name] - mean) >= (std_patiance * std))]\n",
        "    df.drop(rows_to_drop, axis=0, inplace=True)\n",
        "\n",
        "  return df\n"
      ],
      "execution_count": 0,
      "outputs": []
    },
    {
      "cell_type": "code",
      "metadata": {
        "id": "kYqN6TEX3Gej",
        "colab_type": "code",
        "colab": {
          "base_uri": "https://localhost:8080/",
          "height": 297
        },
        "outputId": "bb4b6082-0f44-438d-d8e5-262e85a01971"
      },
      "source": [
        "df = remove_outliers(df)\n",
        "df.describe()"
      ],
      "execution_count": 157,
      "outputs": [
        {
          "output_type": "execute_result",
          "data": {
            "text/html": [
              "<div>\n",
              "<style scoped>\n",
              "    .dataframe tbody tr th:only-of-type {\n",
              "        vertical-align: middle;\n",
              "    }\n",
              "\n",
              "    .dataframe tbody tr th {\n",
              "        vertical-align: top;\n",
              "    }\n",
              "\n",
              "    .dataframe thead th {\n",
              "        text-align: right;\n",
              "    }\n",
              "</style>\n",
              "<table border=\"1\" class=\"dataframe\">\n",
              "  <thead>\n",
              "    <tr style=\"text-align: right;\">\n",
              "      <th></th>\n",
              "      <th>mpg</th>\n",
              "      <th>cylinders</th>\n",
              "      <th>displacement</th>\n",
              "      <th>horsepower</th>\n",
              "      <th>weight</th>\n",
              "      <th>acceleration</th>\n",
              "      <th>year</th>\n",
              "      <th>origin</th>\n",
              "    </tr>\n",
              "  </thead>\n",
              "  <tbody>\n",
              "    <tr>\n",
              "      <th>count</th>\n",
              "      <td>335.000000</td>\n",
              "      <td>335.000000</td>\n",
              "      <td>335.000000</td>\n",
              "      <td>330.000000</td>\n",
              "      <td>335.000000</td>\n",
              "      <td>335.000000</td>\n",
              "      <td>335.000000</td>\n",
              "      <td>335.000000</td>\n",
              "    </tr>\n",
              "    <tr>\n",
              "      <th>mean</th>\n",
              "      <td>24.189851</td>\n",
              "      <td>5.208955</td>\n",
              "      <td>174.876119</td>\n",
              "      <td>97.160606</td>\n",
              "      <td>2818.250746</td>\n",
              "      <td>15.636418</td>\n",
              "      <td>76.331343</td>\n",
              "      <td>1.617910</td>\n",
              "    </tr>\n",
              "    <tr>\n",
              "      <th>std</th>\n",
              "      <td>6.814182</td>\n",
              "      <td>1.564361</td>\n",
              "      <td>86.178917</td>\n",
              "      <td>27.410561</td>\n",
              "      <td>702.025962</td>\n",
              "      <td>2.214457</td>\n",
              "      <td>3.672287</td>\n",
              "      <td>0.824571</td>\n",
              "    </tr>\n",
              "    <tr>\n",
              "      <th>min</th>\n",
              "      <td>13.000000</td>\n",
              "      <td>3.000000</td>\n",
              "      <td>68.000000</td>\n",
              "      <td>46.000000</td>\n",
              "      <td>1613.000000</td>\n",
              "      <td>8.000000</td>\n",
              "      <td>70.000000</td>\n",
              "      <td>1.000000</td>\n",
              "    </tr>\n",
              "    <tr>\n",
              "      <th>25%</th>\n",
              "      <td>18.500000</td>\n",
              "      <td>4.000000</td>\n",
              "      <td>102.500000</td>\n",
              "      <td>75.250000</td>\n",
              "      <td>2219.500000</td>\n",
              "      <td>14.200000</td>\n",
              "      <td>73.000000</td>\n",
              "      <td>1.000000</td>\n",
              "    </tr>\n",
              "    <tr>\n",
              "      <th>50%</th>\n",
              "      <td>24.000000</td>\n",
              "      <td>4.000000</td>\n",
              "      <td>140.000000</td>\n",
              "      <td>90.000000</td>\n",
              "      <td>2694.000000</td>\n",
              "      <td>15.500000</td>\n",
              "      <td>76.000000</td>\n",
              "      <td>1.000000</td>\n",
              "    </tr>\n",
              "    <tr>\n",
              "      <th>75%</th>\n",
              "      <td>29.500000</td>\n",
              "      <td>6.000000</td>\n",
              "      <td>232.000000</td>\n",
              "      <td>110.000000</td>\n",
              "      <td>3362.500000</td>\n",
              "      <td>17.000000</td>\n",
              "      <td>79.000000</td>\n",
              "      <td>2.000000</td>\n",
              "    </tr>\n",
              "    <tr>\n",
              "      <th>max</th>\n",
              "      <td>39.100000</td>\n",
              "      <td>8.000000</td>\n",
              "      <td>400.000000</td>\n",
              "      <td>170.000000</td>\n",
              "      <td>4363.000000</td>\n",
              "      <td>20.700000</td>\n",
              "      <td>82.000000</td>\n",
              "      <td>3.000000</td>\n",
              "    </tr>\n",
              "  </tbody>\n",
              "</table>\n",
              "</div>"
            ],
            "text/plain": [
              "              mpg   cylinders  ...        year      origin\n",
              "count  335.000000  335.000000  ...  335.000000  335.000000\n",
              "mean    24.189851    5.208955  ...   76.331343    1.617910\n",
              "std      6.814182    1.564361  ...    3.672287    0.824571\n",
              "min     13.000000    3.000000  ...   70.000000    1.000000\n",
              "25%     18.500000    4.000000  ...   73.000000    1.000000\n",
              "50%     24.000000    4.000000  ...   76.000000    1.000000\n",
              "75%     29.500000    6.000000  ...   79.000000    2.000000\n",
              "max     39.100000    8.000000  ...   82.000000    3.000000\n",
              "\n",
              "[8 rows x 8 columns]"
            ]
          },
          "metadata": {
            "tags": []
          },
          "execution_count": 157
        }
      ]
    },
    {
      "cell_type": "code",
      "metadata": {
        "id": "I6MtCJzA4VQP",
        "colab_type": "code",
        "colab": {
          "base_uri": "https://localhost:8080/",
          "height": 297
        },
        "outputId": "ff940014-11b9-4c58-8ca2-fc25af20d5b0"
      },
      "source": [
        "remove_na(df)\n",
        "df.describe()"
      ],
      "execution_count": 161,
      "outputs": [
        {
          "output_type": "execute_result",
          "data": {
            "text/html": [
              "<div>\n",
              "<style scoped>\n",
              "    .dataframe tbody tr th:only-of-type {\n",
              "        vertical-align: middle;\n",
              "    }\n",
              "\n",
              "    .dataframe tbody tr th {\n",
              "        vertical-align: top;\n",
              "    }\n",
              "\n",
              "    .dataframe thead th {\n",
              "        text-align: right;\n",
              "    }\n",
              "</style>\n",
              "<table border=\"1\" class=\"dataframe\">\n",
              "  <thead>\n",
              "    <tr style=\"text-align: right;\">\n",
              "      <th></th>\n",
              "      <th>mpg</th>\n",
              "      <th>cylinders</th>\n",
              "      <th>displacement</th>\n",
              "      <th>horsepower</th>\n",
              "      <th>weight</th>\n",
              "      <th>acceleration</th>\n",
              "      <th>year</th>\n",
              "      <th>origin</th>\n",
              "    </tr>\n",
              "  </thead>\n",
              "  <tbody>\n",
              "    <tr>\n",
              "      <th>count</th>\n",
              "      <td>335.000000</td>\n",
              "      <td>335.000000</td>\n",
              "      <td>335.000000</td>\n",
              "      <td>335.000000</td>\n",
              "      <td>335.000000</td>\n",
              "      <td>335.000000</td>\n",
              "      <td>335.000000</td>\n",
              "      <td>335.000000</td>\n",
              "    </tr>\n",
              "    <tr>\n",
              "      <th>mean</th>\n",
              "      <td>24.189851</td>\n",
              "      <td>5.208955</td>\n",
              "      <td>174.876119</td>\n",
              "      <td>97.053731</td>\n",
              "      <td>2818.250746</td>\n",
              "      <td>15.636418</td>\n",
              "      <td>76.331343</td>\n",
              "      <td>1.617910</td>\n",
              "    </tr>\n",
              "    <tr>\n",
              "      <th>std</th>\n",
              "      <td>6.814182</td>\n",
              "      <td>1.564361</td>\n",
              "      <td>86.178917</td>\n",
              "      <td>27.218512</td>\n",
              "      <td>702.025962</td>\n",
              "      <td>2.214457</td>\n",
              "      <td>3.672287</td>\n",
              "      <td>0.824571</td>\n",
              "    </tr>\n",
              "    <tr>\n",
              "      <th>min</th>\n",
              "      <td>13.000000</td>\n",
              "      <td>3.000000</td>\n",
              "      <td>68.000000</td>\n",
              "      <td>46.000000</td>\n",
              "      <td>1613.000000</td>\n",
              "      <td>8.000000</td>\n",
              "      <td>70.000000</td>\n",
              "      <td>1.000000</td>\n",
              "    </tr>\n",
              "    <tr>\n",
              "      <th>25%</th>\n",
              "      <td>18.500000</td>\n",
              "      <td>4.000000</td>\n",
              "      <td>102.500000</td>\n",
              "      <td>76.000000</td>\n",
              "      <td>2219.500000</td>\n",
              "      <td>14.200000</td>\n",
              "      <td>73.000000</td>\n",
              "      <td>1.000000</td>\n",
              "    </tr>\n",
              "    <tr>\n",
              "      <th>50%</th>\n",
              "      <td>24.000000</td>\n",
              "      <td>4.000000</td>\n",
              "      <td>140.000000</td>\n",
              "      <td>90.000000</td>\n",
              "      <td>2694.000000</td>\n",
              "      <td>15.500000</td>\n",
              "      <td>76.000000</td>\n",
              "      <td>1.000000</td>\n",
              "    </tr>\n",
              "    <tr>\n",
              "      <th>75%</th>\n",
              "      <td>29.500000</td>\n",
              "      <td>6.000000</td>\n",
              "      <td>232.000000</td>\n",
              "      <td>110.000000</td>\n",
              "      <td>3362.500000</td>\n",
              "      <td>17.000000</td>\n",
              "      <td>79.000000</td>\n",
              "      <td>2.000000</td>\n",
              "    </tr>\n",
              "    <tr>\n",
              "      <th>max</th>\n",
              "      <td>39.100000</td>\n",
              "      <td>8.000000</td>\n",
              "      <td>400.000000</td>\n",
              "      <td>170.000000</td>\n",
              "      <td>4363.000000</td>\n",
              "      <td>20.700000</td>\n",
              "      <td>82.000000</td>\n",
              "      <td>3.000000</td>\n",
              "    </tr>\n",
              "  </tbody>\n",
              "</table>\n",
              "</div>"
            ],
            "text/plain": [
              "              mpg   cylinders  ...        year      origin\n",
              "count  335.000000  335.000000  ...  335.000000  335.000000\n",
              "mean    24.189851    5.208955  ...   76.331343    1.617910\n",
              "std      6.814182    1.564361  ...    3.672287    0.824571\n",
              "min     13.000000    3.000000  ...   70.000000    1.000000\n",
              "25%     18.500000    4.000000  ...   73.000000    1.000000\n",
              "50%     24.000000    4.000000  ...   76.000000    1.000000\n",
              "75%     29.500000    6.000000  ...   79.000000    2.000000\n",
              "max     39.100000    8.000000  ...   82.000000    3.000000\n",
              "\n",
              "[8 rows x 8 columns]"
            ]
          },
          "metadata": {
            "tags": []
          },
          "execution_count": 161
        }
      ]
    },
    {
      "cell_type": "markdown",
      "metadata": {
        "id": "c8uHqMuTAWRP",
        "colab_type": "text"
      },
      "source": [
        "### MERGING, CONCATENATING & INDEXING"
      ]
    },
    {
      "cell_type": "code",
      "metadata": {
        "id": "c3OMHXUhAj5k",
        "colab_type": "code",
        "colab": {
          "base_uri": "https://localhost:8080/",
          "height": 419
        },
        "outputId": "86b5f526-0e84-49bc-8719-6445fd84e58b"
      },
      "source": [
        "horsepower = df['horsepower']\n",
        "year = df[['year', 'name']]\n",
        "result = pd.concat([horsepower, year], axis=1)\n",
        "display(result)"
      ],
      "execution_count": 164,
      "outputs": [
        {
          "output_type": "display_data",
          "data": {
            "text/html": [
              "<div>\n",
              "<style scoped>\n",
              "    .dataframe tbody tr th:only-of-type {\n",
              "        vertical-align: middle;\n",
              "    }\n",
              "\n",
              "    .dataframe tbody tr th {\n",
              "        vertical-align: top;\n",
              "    }\n",
              "\n",
              "    .dataframe thead th {\n",
              "        text-align: right;\n",
              "    }\n",
              "</style>\n",
              "<table border=\"1\" class=\"dataframe\">\n",
              "  <thead>\n",
              "    <tr style=\"text-align: right;\">\n",
              "      <th></th>\n",
              "      <th>horsepower</th>\n",
              "      <th>year</th>\n",
              "      <th>name</th>\n",
              "    </tr>\n",
              "  </thead>\n",
              "  <tbody>\n",
              "    <tr>\n",
              "      <th>0</th>\n",
              "      <td>130</td>\n",
              "      <td>70</td>\n",
              "      <td>chevrolet chevelle malibu</td>\n",
              "    </tr>\n",
              "    <tr>\n",
              "      <th>1</th>\n",
              "      <td>165</td>\n",
              "      <td>70</td>\n",
              "      <td>buick skylark 320</td>\n",
              "    </tr>\n",
              "    <tr>\n",
              "      <th>2</th>\n",
              "      <td>150</td>\n",
              "      <td>70</td>\n",
              "      <td>plymouth satellite</td>\n",
              "    </tr>\n",
              "    <tr>\n",
              "      <th>3</th>\n",
              "      <td>150</td>\n",
              "      <td>70</td>\n",
              "      <td>amc rebel sst</td>\n",
              "    </tr>\n",
              "    <tr>\n",
              "      <th>4</th>\n",
              "      <td>140</td>\n",
              "      <td>70</td>\n",
              "      <td>ford torino</td>\n",
              "    </tr>\n",
              "    <tr>\n",
              "      <th>...</th>\n",
              "      <td>...</td>\n",
              "      <td>...</td>\n",
              "      <td>...</td>\n",
              "    </tr>\n",
              "    <tr>\n",
              "      <th>393</th>\n",
              "      <td>86</td>\n",
              "      <td>82</td>\n",
              "      <td>ford mustang gl</td>\n",
              "    </tr>\n",
              "    <tr>\n",
              "      <th>394</th>\n",
              "      <td>52</td>\n",
              "      <td>82</td>\n",
              "      <td>vw pickup</td>\n",
              "    </tr>\n",
              "    <tr>\n",
              "      <th>395</th>\n",
              "      <td>84</td>\n",
              "      <td>82</td>\n",
              "      <td>dodge rampage</td>\n",
              "    </tr>\n",
              "    <tr>\n",
              "      <th>396</th>\n",
              "      <td>79</td>\n",
              "      <td>82</td>\n",
              "      <td>ford ranger</td>\n",
              "    </tr>\n",
              "    <tr>\n",
              "      <th>397</th>\n",
              "      <td>82</td>\n",
              "      <td>82</td>\n",
              "      <td>chevy s-10</td>\n",
              "    </tr>\n",
              "  </tbody>\n",
              "</table>\n",
              "<p>398 rows × 3 columns</p>\n",
              "</div>"
            ],
            "text/plain": [
              "    horsepower  year                       name\n",
              "0          130    70  chevrolet chevelle malibu\n",
              "1          165    70          buick skylark 320\n",
              "2          150    70         plymouth satellite\n",
              "3          150    70              amc rebel sst\n",
              "4          140    70                ford torino\n",
              "..         ...   ...                        ...\n",
              "393         86    82            ford mustang gl\n",
              "394         52    82                  vw pickup\n",
              "395         84    82              dodge rampage\n",
              "396         79    82                ford ranger\n",
              "397         82    82                 chevy s-10\n",
              "\n",
              "[398 rows x 3 columns]"
            ]
          },
          "metadata": {
            "tags": []
          }
        }
      ]
    },
    {
      "cell_type": "code",
      "metadata": {
        "id": "GhOPYCUlBB18",
        "colab_type": "code",
        "colab": {
          "base_uri": "https://localhost:8080/",
          "height": 419
        },
        "outputId": "45670f0f-3e46-4176-dc62-e19655b8e1d7"
      },
      "source": [
        "k = pd.concat([df[4:90],df[396:]], axis=0)\n",
        "display(k)"
      ],
      "execution_count": 167,
      "outputs": [
        {
          "output_type": "display_data",
          "data": {
            "text/html": [
              "<div>\n",
              "<style scoped>\n",
              "    .dataframe tbody tr th:only-of-type {\n",
              "        vertical-align: middle;\n",
              "    }\n",
              "\n",
              "    .dataframe tbody tr th {\n",
              "        vertical-align: top;\n",
              "    }\n",
              "\n",
              "    .dataframe thead th {\n",
              "        text-align: right;\n",
              "    }\n",
              "</style>\n",
              "<table border=\"1\" class=\"dataframe\">\n",
              "  <thead>\n",
              "    <tr style=\"text-align: right;\">\n",
              "      <th></th>\n",
              "      <th>mpg</th>\n",
              "      <th>cylinders</th>\n",
              "      <th>displacement</th>\n",
              "      <th>horsepower</th>\n",
              "      <th>weight</th>\n",
              "      <th>acceleration</th>\n",
              "      <th>year</th>\n",
              "      <th>origin</th>\n",
              "      <th>name</th>\n",
              "    </tr>\n",
              "  </thead>\n",
              "  <tbody>\n",
              "    <tr>\n",
              "      <th>4</th>\n",
              "      <td>17.0</td>\n",
              "      <td>8</td>\n",
              "      <td>302.0</td>\n",
              "      <td>140</td>\n",
              "      <td>3449</td>\n",
              "      <td>10.5</td>\n",
              "      <td>70</td>\n",
              "      <td>1</td>\n",
              "      <td>ford torino</td>\n",
              "    </tr>\n",
              "    <tr>\n",
              "      <th>5</th>\n",
              "      <td>15.0</td>\n",
              "      <td>8</td>\n",
              "      <td>429.0</td>\n",
              "      <td>198</td>\n",
              "      <td>4341</td>\n",
              "      <td>10.0</td>\n",
              "      <td>70</td>\n",
              "      <td>1</td>\n",
              "      <td>ford galaxie 500</td>\n",
              "    </tr>\n",
              "    <tr>\n",
              "      <th>6</th>\n",
              "      <td>14.0</td>\n",
              "      <td>8</td>\n",
              "      <td>454.0</td>\n",
              "      <td>220</td>\n",
              "      <td>4354</td>\n",
              "      <td>9.0</td>\n",
              "      <td>70</td>\n",
              "      <td>1</td>\n",
              "      <td>chevrolet impala</td>\n",
              "    </tr>\n",
              "    <tr>\n",
              "      <th>7</th>\n",
              "      <td>14.0</td>\n",
              "      <td>8</td>\n",
              "      <td>440.0</td>\n",
              "      <td>215</td>\n",
              "      <td>4312</td>\n",
              "      <td>8.5</td>\n",
              "      <td>70</td>\n",
              "      <td>1</td>\n",
              "      <td>plymouth fury iii</td>\n",
              "    </tr>\n",
              "    <tr>\n",
              "      <th>8</th>\n",
              "      <td>14.0</td>\n",
              "      <td>8</td>\n",
              "      <td>455.0</td>\n",
              "      <td>225</td>\n",
              "      <td>4425</td>\n",
              "      <td>10.0</td>\n",
              "      <td>70</td>\n",
              "      <td>1</td>\n",
              "      <td>pontiac catalina</td>\n",
              "    </tr>\n",
              "    <tr>\n",
              "      <th>...</th>\n",
              "      <td>...</td>\n",
              "      <td>...</td>\n",
              "      <td>...</td>\n",
              "      <td>...</td>\n",
              "      <td>...</td>\n",
              "      <td>...</td>\n",
              "      <td>...</td>\n",
              "      <td>...</td>\n",
              "      <td>...</td>\n",
              "    </tr>\n",
              "    <tr>\n",
              "      <th>87</th>\n",
              "      <td>13.0</td>\n",
              "      <td>8</td>\n",
              "      <td>350.0</td>\n",
              "      <td>145</td>\n",
              "      <td>3988</td>\n",
              "      <td>13.0</td>\n",
              "      <td>73</td>\n",
              "      <td>1</td>\n",
              "      <td>chevrolet malibu</td>\n",
              "    </tr>\n",
              "    <tr>\n",
              "      <th>88</th>\n",
              "      <td>14.0</td>\n",
              "      <td>8</td>\n",
              "      <td>302.0</td>\n",
              "      <td>137</td>\n",
              "      <td>4042</td>\n",
              "      <td>14.5</td>\n",
              "      <td>73</td>\n",
              "      <td>1</td>\n",
              "      <td>ford gran torino</td>\n",
              "    </tr>\n",
              "    <tr>\n",
              "      <th>89</th>\n",
              "      <td>15.0</td>\n",
              "      <td>8</td>\n",
              "      <td>318.0</td>\n",
              "      <td>150</td>\n",
              "      <td>3777</td>\n",
              "      <td>12.5</td>\n",
              "      <td>73</td>\n",
              "      <td>1</td>\n",
              "      <td>dodge coronet custom</td>\n",
              "    </tr>\n",
              "    <tr>\n",
              "      <th>396</th>\n",
              "      <td>28.0</td>\n",
              "      <td>4</td>\n",
              "      <td>120.0</td>\n",
              "      <td>79</td>\n",
              "      <td>2625</td>\n",
              "      <td>18.6</td>\n",
              "      <td>82</td>\n",
              "      <td>1</td>\n",
              "      <td>ford ranger</td>\n",
              "    </tr>\n",
              "    <tr>\n",
              "      <th>397</th>\n",
              "      <td>31.0</td>\n",
              "      <td>4</td>\n",
              "      <td>119.0</td>\n",
              "      <td>82</td>\n",
              "      <td>2720</td>\n",
              "      <td>19.4</td>\n",
              "      <td>82</td>\n",
              "      <td>1</td>\n",
              "      <td>chevy s-10</td>\n",
              "    </tr>\n",
              "  </tbody>\n",
              "</table>\n",
              "<p>88 rows × 9 columns</p>\n",
              "</div>"
            ],
            "text/plain": [
              "      mpg  cylinders  displacement  ... year  origin                  name\n",
              "4    17.0          8         302.0  ...   70       1           ford torino\n",
              "5    15.0          8         429.0  ...   70       1      ford galaxie 500\n",
              "6    14.0          8         454.0  ...   70       1      chevrolet impala\n",
              "7    14.0          8         440.0  ...   70       1     plymouth fury iii\n",
              "8    14.0          8         455.0  ...   70       1      pontiac catalina\n",
              "..    ...        ...           ...  ...  ...     ...                   ...\n",
              "87   13.0          8         350.0  ...   73       1      chevrolet malibu\n",
              "88   14.0          8         302.0  ...   73       1      ford gran torino\n",
              "89   15.0          8         318.0  ...   73       1  dodge coronet custom\n",
              "396  28.0          4         120.0  ...   82       1           ford ranger\n",
              "397  31.0          4         119.0  ...   82       1            chevy s-10\n",
              "\n",
              "[88 rows x 9 columns]"
            ]
          },
          "metadata": {
            "tags": []
          }
        }
      ]
    },
    {
      "cell_type": "code",
      "metadata": {
        "id": "tJOmnJfzBVl6",
        "colab_type": "code",
        "colab": {
          "base_uri": "https://localhost:8080/",
          "height": 419
        },
        "outputId": "96e16504-5b89-4364-ed7d-05fd2ea4f281"
      },
      "source": [
        "#bad df['year':'name'] use:_ instead\n",
        "df.loc[:,'year':'name']"
      ],
      "execution_count": 169,
      "outputs": [
        {
          "output_type": "execute_result",
          "data": {
            "text/html": [
              "<div>\n",
              "<style scoped>\n",
              "    .dataframe tbody tr th:only-of-type {\n",
              "        vertical-align: middle;\n",
              "    }\n",
              "\n",
              "    .dataframe tbody tr th {\n",
              "        vertical-align: top;\n",
              "    }\n",
              "\n",
              "    .dataframe thead th {\n",
              "        text-align: right;\n",
              "    }\n",
              "</style>\n",
              "<table border=\"1\" class=\"dataframe\">\n",
              "  <thead>\n",
              "    <tr style=\"text-align: right;\">\n",
              "      <th></th>\n",
              "      <th>year</th>\n",
              "      <th>origin</th>\n",
              "      <th>name</th>\n",
              "    </tr>\n",
              "  </thead>\n",
              "  <tbody>\n",
              "    <tr>\n",
              "      <th>0</th>\n",
              "      <td>70</td>\n",
              "      <td>1</td>\n",
              "      <td>chevrolet chevelle malibu</td>\n",
              "    </tr>\n",
              "    <tr>\n",
              "      <th>1</th>\n",
              "      <td>70</td>\n",
              "      <td>1</td>\n",
              "      <td>buick skylark 320</td>\n",
              "    </tr>\n",
              "    <tr>\n",
              "      <th>2</th>\n",
              "      <td>70</td>\n",
              "      <td>1</td>\n",
              "      <td>plymouth satellite</td>\n",
              "    </tr>\n",
              "    <tr>\n",
              "      <th>3</th>\n",
              "      <td>70</td>\n",
              "      <td>1</td>\n",
              "      <td>amc rebel sst</td>\n",
              "    </tr>\n",
              "    <tr>\n",
              "      <th>4</th>\n",
              "      <td>70</td>\n",
              "      <td>1</td>\n",
              "      <td>ford torino</td>\n",
              "    </tr>\n",
              "    <tr>\n",
              "      <th>...</th>\n",
              "      <td>...</td>\n",
              "      <td>...</td>\n",
              "      <td>...</td>\n",
              "    </tr>\n",
              "    <tr>\n",
              "      <th>393</th>\n",
              "      <td>82</td>\n",
              "      <td>1</td>\n",
              "      <td>ford mustang gl</td>\n",
              "    </tr>\n",
              "    <tr>\n",
              "      <th>394</th>\n",
              "      <td>82</td>\n",
              "      <td>2</td>\n",
              "      <td>vw pickup</td>\n",
              "    </tr>\n",
              "    <tr>\n",
              "      <th>395</th>\n",
              "      <td>82</td>\n",
              "      <td>1</td>\n",
              "      <td>dodge rampage</td>\n",
              "    </tr>\n",
              "    <tr>\n",
              "      <th>396</th>\n",
              "      <td>82</td>\n",
              "      <td>1</td>\n",
              "      <td>ford ranger</td>\n",
              "    </tr>\n",
              "    <tr>\n",
              "      <th>397</th>\n",
              "      <td>82</td>\n",
              "      <td>1</td>\n",
              "      <td>chevy s-10</td>\n",
              "    </tr>\n",
              "  </tbody>\n",
              "</table>\n",
              "<p>398 rows × 3 columns</p>\n",
              "</div>"
            ],
            "text/plain": [
              "     year  origin                       name\n",
              "0      70       1  chevrolet chevelle malibu\n",
              "1      70       1          buick skylark 320\n",
              "2      70       1         plymouth satellite\n",
              "3      70       1              amc rebel sst\n",
              "4      70       1                ford torino\n",
              "..    ...     ...                        ...\n",
              "393    82       1            ford mustang gl\n",
              "394    82       2                  vw pickup\n",
              "395    82       1              dodge rampage\n",
              "396    82       1                ford ranger\n",
              "397    82       1                 chevy s-10\n",
              "\n",
              "[398 rows x 3 columns]"
            ]
          },
          "metadata": {
            "tags": []
          },
          "execution_count": 169
        }
      ]
    },
    {
      "cell_type": "code",
      "metadata": {
        "id": "Mq60jkXCCvLz",
        "colab_type": "code",
        "colab": {
          "base_uri": "https://localhost:8080/",
          "height": 34
        },
        "outputId": "e11d38a4-a45e-4bcd-fea9-37c666bafe27"
      },
      "source": [
        "df.at[200,'name']"
      ],
      "execution_count": 170,
      "outputs": [
        {
          "output_type": "execute_result",
          "data": {
            "text/plain": [
              "'ford granada ghia'"
            ]
          },
          "metadata": {
            "tags": []
          },
          "execution_count": 170
        }
      ]
    },
    {
      "cell_type": "markdown",
      "metadata": {
        "id": "A2s5-aW1GvXS",
        "colab_type": "text"
      },
      "source": [
        "### SAVING"
      ]
    },
    {
      "cell_type": "markdown",
      "metadata": {
        "id": "OF6QEMAbHVFW",
        "colab_type": "text"
      },
      "source": [
        "PANDAS TO CSV"
      ]
    },
    {
      "cell_type": "code",
      "metadata": {
        "id": "HVqRLmDuG904",
        "colab_type": "code",
        "colab": {}
      },
      "source": [
        "df.to_csv('filename', index=False) # index = false to not write row numbers"
      ],
      "execution_count": 0,
      "outputs": []
    },
    {
      "cell_type": "markdown",
      "metadata": {
        "id": "lTlIumKnI1eX",
        "colab_type": "text"
      },
      "source": [
        "PANDAS TO PICKLE"
      ]
    },
    {
      "cell_type": "code",
      "metadata": {
        "id": "88EyBHykI3TY",
        "colab_type": "code",
        "colab": {}
      },
      "source": [
        "#pickle = binary file format"
      ],
      "execution_count": 0,
      "outputs": []
    },
    {
      "cell_type": "code",
      "metadata": {
        "id": "9spHFwLFJbcB",
        "colab_type": "code",
        "colab": {}
      },
      "source": [
        "import pickle"
      ],
      "execution_count": 0,
      "outputs": []
    },
    {
      "cell_type": "code",
      "metadata": {
        "id": "JzKDe6DcI6B8",
        "colab_type": "code",
        "colab": {}
      },
      "source": [
        "with open(filename_write,\"wb\") as f:\n",
        "    pickle.dump(df, f)"
      ],
      "execution_count": 0,
      "outputs": []
    },
    {
      "cell_type": "code",
      "metadata": {
        "id": "T6wzS9BFI_IP",
        "colab_type": "code",
        "colab": {}
      },
      "source": [
        "with open(filename_write,\"rb\") as f:\n",
        "    df = pickle.load(f)"
      ],
      "execution_count": 0,
      "outputs": []
    },
    {
      "cell_type": "markdown",
      "metadata": {
        "id": "FOPom0BDJdpH",
        "colab_type": "text"
      },
      "source": [
        "OTHER USEFUL FUNCTIONS"
      ]
    },
    {
      "cell_type": "code",
      "metadata": {
        "id": "EtHcOuqfJiVG",
        "colab_type": "code",
        "colab": {}
      },
      "source": [
        "pd.read_json()\n",
        "pd.read_hdf() #best for ANN\n",
        "pd.read_sql()\n",
        "pd.read_feather() # best categorical data so far\n",
        "pd.read_pickle() #another implementation"
      ],
      "execution_count": 0,
      "outputs": []
    },
    {
      "cell_type": "code",
      "metadata": {
        "id": "9MFzGH4fKaWN",
        "colab_type": "code",
        "colab": {}
      },
      "source": [
        "df.to_feather(\"filename\")"
      ],
      "execution_count": 0,
      "outputs": []
    },
    {
      "cell_type": "markdown",
      "metadata": {
        "id": "uW1ThW_tHYHR",
        "colab_type": "text"
      },
      "source": [
        "NUMPY ARRAYS"
      ]
    },
    {
      "cell_type": "code",
      "metadata": {
        "id": "7pLBjYe9HbsP",
        "colab_type": "code",
        "colab": {}
      },
      "source": [
        "np.save('test.npy', array_u_want_to_save)"
      ],
      "execution_count": 0,
      "outputs": []
    },
    {
      "cell_type": "code",
      "metadata": {
        "id": "UkbHCye5HcED",
        "colab_type": "code",
        "colab": {}
      },
      "source": [
        "your_array = p.load('test.npy')"
      ],
      "execution_count": 0,
      "outputs": []
    },
    {
      "cell_type": "markdown",
      "metadata": {
        "id": "4jTQfWMBHcXi",
        "colab_type": "text"
      },
      "source": [
        "NEURAL NETWORKS TO HDF5 "
      ]
    },
    {
      "cell_type": "code",
      "metadata": {
        "id": "W_VWPlN0Hg5a",
        "colab_type": "code",
        "colab": {}
      },
      "source": [
        "# HDF5 = Hierarchical Data Format version 5"
      ],
      "execution_count": 0,
      "outputs": []
    },
    {
      "cell_type": "code",
      "metadata": {
        "id": "g8EdfgHfHsBa",
        "colab_type": "code",
        "colab": {}
      },
      "source": [
        ""
      ],
      "execution_count": 0,
      "outputs": []
    },
    {
      "cell_type": "markdown",
      "metadata": {
        "id": "1MLo9T0MEXAp",
        "colab_type": "text"
      },
      "source": [
        "## PREPROCESSING"
      ]
    },
    {
      "cell_type": "markdown",
      "metadata": {
        "id": "r2XW4V8uEfM1",
        "colab_type": "text"
      },
      "source": [
        "###PANDAS"
      ]
    },
    {
      "cell_type": "markdown",
      "metadata": {
        "id": "kAt_e7lLE2Ai",
        "colab_type": "text"
      },
      "source": [
        "Own validation test and train df"
      ]
    },
    {
      "cell_type": "code",
      "metadata": {
        "id": "DsMJWJCBEeiR",
        "colab_type": "code",
        "colab": {
          "base_uri": "https://localhost:8080/",
          "height": 34
        },
        "outputId": "ab16c8f6-bca3-42c3-adb7-019d43de9f94"
      },
      "source": [
        "df.index"
      ],
      "execution_count": 172,
      "outputs": [
        {
          "output_type": "execute_result",
          "data": {
            "text/plain": [
              "RangeIndex(start=0, stop=398, step=1)"
            ]
          },
          "metadata": {
            "tags": []
          },
          "execution_count": 172
        }
      ]
    },
    {
      "cell_type": "code",
      "metadata": {
        "id": "yXnWUiJxFwDV",
        "colab_type": "code",
        "colab": {
          "base_uri": "https://localhost:8080/",
          "height": 34
        },
        "outputId": "927a4d30-95e8-49f2-d965-a873545294ac"
      },
      "source": [
        "len(df)"
      ],
      "execution_count": 175,
      "outputs": [
        {
          "output_type": "execute_result",
          "data": {
            "text/plain": [
              "398"
            ]
          },
          "metadata": {
            "tags": []
          },
          "execution_count": 175
        }
      ]
    },
    {
      "cell_type": "code",
      "metadata": {
        "id": "9QQd_l_gFSDX",
        "colab_type": "code",
        "colab": {}
      },
      "source": [
        "df.reindex(np.random.permutation(df.index)) #it's always good idea to shuffle"
      ],
      "execution_count": 0,
      "outputs": []
    },
    {
      "cell_type": "code",
      "metadata": {
        "id": "vKdcQI-fFd4u",
        "colab_type": "code",
        "colab": {
          "base_uri": "https://localhost:8080/",
          "height": 782
        },
        "outputId": "eb7902ae-5228-4737-c4d9-05219c108cc6"
      },
      "source": [
        "mask = np.random.rand(len(df)) < 0.75\n",
        "mask"
      ],
      "execution_count": 178,
      "outputs": [
        {
          "output_type": "execute_result",
          "data": {
            "text/plain": [
              "array([False,  True,  True,  True,  True,  True,  True, False, False,\n",
              "        True,  True, False,  True,  True,  True, False,  True, False,\n",
              "       False,  True, False, False, False,  True,  True, False,  True,\n",
              "        True,  True,  True,  True,  True,  True, False, False, False,\n",
              "        True, False,  True,  True,  True,  True,  True,  True,  True,\n",
              "        True,  True,  True, False, False,  True,  True,  True, False,\n",
              "        True,  True,  True,  True,  True,  True,  True,  True,  True,\n",
              "       False,  True,  True,  True,  True,  True,  True, False,  True,\n",
              "       False,  True,  True,  True,  True,  True,  True,  True,  True,\n",
              "        True,  True,  True,  True, False, False,  True,  True,  True,\n",
              "        True,  True,  True,  True,  True,  True,  True,  True,  True,\n",
              "       False,  True,  True, False,  True,  True,  True,  True, False,\n",
              "        True, False,  True,  True,  True,  True,  True,  True, False,\n",
              "        True,  True, False,  True,  True,  True,  True, False,  True,\n",
              "        True, False,  True,  True,  True, False,  True,  True,  True,\n",
              "        True, False,  True,  True, False, False,  True, False,  True,\n",
              "        True,  True,  True, False,  True,  True,  True,  True, False,\n",
              "        True,  True,  True,  True,  True, False,  True, False,  True,\n",
              "        True, False,  True,  True,  True,  True,  True,  True,  True,\n",
              "        True,  True,  True, False,  True,  True,  True,  True, False,\n",
              "        True, False,  True,  True,  True,  True, False,  True,  True,\n",
              "        True,  True,  True,  True,  True, False,  True,  True,  True,\n",
              "        True,  True,  True,  True,  True, False,  True,  True, False,\n",
              "        True,  True,  True,  True,  True,  True,  True,  True,  True,\n",
              "        True,  True,  True,  True,  True,  True, False,  True,  True,\n",
              "        True,  True,  True,  True,  True,  True,  True, False,  True,\n",
              "        True,  True,  True, False,  True,  True, False, False,  True,\n",
              "        True,  True,  True,  True, False, False,  True,  True,  True,\n",
              "       False,  True,  True, False,  True,  True, False,  True,  True,\n",
              "        True,  True,  True,  True, False, False,  True,  True,  True,\n",
              "       False,  True, False,  True, False,  True,  True, False,  True,\n",
              "       False,  True, False,  True,  True,  True,  True,  True,  True,\n",
              "        True,  True, False,  True, False,  True,  True,  True,  True,\n",
              "        True,  True,  True,  True,  True,  True, False,  True,  True,\n",
              "        True,  True,  True,  True,  True,  True,  True,  True,  True,\n",
              "        True,  True,  True,  True,  True, False,  True,  True, False,\n",
              "       False,  True, False,  True, False, False, False,  True,  True,\n",
              "        True,  True, False, False,  True,  True,  True,  True,  True,\n",
              "        True,  True,  True, False,  True,  True,  True, False,  True,\n",
              "       False,  True, False,  True, False,  True,  True,  True,  True,\n",
              "        True,  True, False,  True,  True, False,  True,  True,  True,\n",
              "        True,  True,  True,  True,  True,  True,  True, False,  True,\n",
              "        True,  True,  True,  True,  True,  True,  True,  True,  True,\n",
              "        True,  True,  True,  True,  True, False,  True,  True, False,\n",
              "        True, False])"
            ]
          },
          "metadata": {
            "tags": []
          },
          "execution_count": 178
        }
      ]
    },
    {
      "cell_type": "code",
      "metadata": {
        "id": "kaYrPpuSF9io",
        "colab_type": "code",
        "colab": {
          "base_uri": "https://localhost:8080/",
          "height": 297
        },
        "outputId": "62306cb3-30ab-4809-bcc2-3c9434384d2e"
      },
      "source": [
        "train = df[mask]\n",
        "test = df[~mask]\n",
        "test.describe()"
      ],
      "execution_count": 183,
      "outputs": [
        {
          "output_type": "execute_result",
          "data": {
            "text/html": [
              "<div>\n",
              "<style scoped>\n",
              "    .dataframe tbody tr th:only-of-type {\n",
              "        vertical-align: middle;\n",
              "    }\n",
              "\n",
              "    .dataframe tbody tr th {\n",
              "        vertical-align: top;\n",
              "    }\n",
              "\n",
              "    .dataframe thead th {\n",
              "        text-align: right;\n",
              "    }\n",
              "</style>\n",
              "<table border=\"1\" class=\"dataframe\">\n",
              "  <thead>\n",
              "    <tr style=\"text-align: right;\">\n",
              "      <th></th>\n",
              "      <th>mpg</th>\n",
              "      <th>cylinders</th>\n",
              "      <th>displacement</th>\n",
              "      <th>weight</th>\n",
              "      <th>acceleration</th>\n",
              "      <th>year</th>\n",
              "      <th>origin</th>\n",
              "    </tr>\n",
              "  </thead>\n",
              "  <tbody>\n",
              "    <tr>\n",
              "      <th>count</th>\n",
              "      <td>89.000000</td>\n",
              "      <td>89.000000</td>\n",
              "      <td>89.000000</td>\n",
              "      <td>89.000000</td>\n",
              "      <td>89.000000</td>\n",
              "      <td>89.000000</td>\n",
              "      <td>89.000000</td>\n",
              "    </tr>\n",
              "    <tr>\n",
              "      <th>mean</th>\n",
              "      <td>23.750562</td>\n",
              "      <td>5.449438</td>\n",
              "      <td>190.247191</td>\n",
              "      <td>2935.078652</td>\n",
              "      <td>15.513483</td>\n",
              "      <td>75.719101</td>\n",
              "      <td>1.606742</td>\n",
              "    </tr>\n",
              "    <tr>\n",
              "      <th>std</th>\n",
              "      <td>8.177326</td>\n",
              "      <td>1.644628</td>\n",
              "      <td>102.694746</td>\n",
              "      <td>837.053466</td>\n",
              "      <td>2.827591</td>\n",
              "      <td>3.813817</td>\n",
              "      <td>0.806479</td>\n",
              "    </tr>\n",
              "    <tr>\n",
              "      <th>min</th>\n",
              "      <td>10.000000</td>\n",
              "      <td>4.000000</td>\n",
              "      <td>71.000000</td>\n",
              "      <td>1760.000000</td>\n",
              "      <td>8.000000</td>\n",
              "      <td>70.000000</td>\n",
              "      <td>1.000000</td>\n",
              "    </tr>\n",
              "    <tr>\n",
              "      <th>25%</th>\n",
              "      <td>17.500000</td>\n",
              "      <td>4.000000</td>\n",
              "      <td>98.000000</td>\n",
              "      <td>2190.000000</td>\n",
              "      <td>14.000000</td>\n",
              "      <td>73.000000</td>\n",
              "      <td>1.000000</td>\n",
              "    </tr>\n",
              "    <tr>\n",
              "      <th>50%</th>\n",
              "      <td>22.000000</td>\n",
              "      <td>4.000000</td>\n",
              "      <td>146.000000</td>\n",
              "      <td>2830.000000</td>\n",
              "      <td>15.500000</td>\n",
              "      <td>76.000000</td>\n",
              "      <td>1.000000</td>\n",
              "    </tr>\n",
              "    <tr>\n",
              "      <th>75%</th>\n",
              "      <td>30.000000</td>\n",
              "      <td>6.000000</td>\n",
              "      <td>250.000000</td>\n",
              "      <td>3535.000000</td>\n",
              "      <td>17.300000</td>\n",
              "      <td>79.000000</td>\n",
              "      <td>2.000000</td>\n",
              "    </tr>\n",
              "    <tr>\n",
              "      <th>max</th>\n",
              "      <td>44.600000</td>\n",
              "      <td>8.000000</td>\n",
              "      <td>455.000000</td>\n",
              "      <td>4638.000000</td>\n",
              "      <td>23.700000</td>\n",
              "      <td>82.000000</td>\n",
              "      <td>3.000000</td>\n",
              "    </tr>\n",
              "  </tbody>\n",
              "</table>\n",
              "</div>"
            ],
            "text/plain": [
              "             mpg  cylinders  displacement  ...  acceleration       year     origin\n",
              "count  89.000000  89.000000     89.000000  ...     89.000000  89.000000  89.000000\n",
              "mean   23.750562   5.449438    190.247191  ...     15.513483  75.719101   1.606742\n",
              "std     8.177326   1.644628    102.694746  ...      2.827591   3.813817   0.806479\n",
              "min    10.000000   4.000000     71.000000  ...      8.000000  70.000000   1.000000\n",
              "25%    17.500000   4.000000     98.000000  ...     14.000000  73.000000   1.000000\n",
              "50%    22.000000   4.000000    146.000000  ...     15.500000  76.000000   1.000000\n",
              "75%    30.000000   6.000000    250.000000  ...     17.300000  79.000000   2.000000\n",
              "max    44.600000   8.000000    455.000000  ...     23.700000  82.000000   3.000000\n",
              "\n",
              "[8 rows x 7 columns]"
            ]
          },
          "metadata": {
            "tags": []
          },
          "execution_count": 183
        }
      ]
    },
    {
      "cell_type": "code",
      "metadata": {
        "id": "_osQM7RUGWIb",
        "colab_type": "code",
        "colab": {
          "base_uri": "https://localhost:8080/",
          "height": 297
        },
        "outputId": "6eb992f3-aee6-4a8e-e505-5ce116d6a338"
      },
      "source": [
        "train.describe()"
      ],
      "execution_count": 184,
      "outputs": [
        {
          "output_type": "execute_result",
          "data": {
            "text/html": [
              "<div>\n",
              "<style scoped>\n",
              "    .dataframe tbody tr th:only-of-type {\n",
              "        vertical-align: middle;\n",
              "    }\n",
              "\n",
              "    .dataframe tbody tr th {\n",
              "        vertical-align: top;\n",
              "    }\n",
              "\n",
              "    .dataframe thead th {\n",
              "        text-align: right;\n",
              "    }\n",
              "</style>\n",
              "<table border=\"1\" class=\"dataframe\">\n",
              "  <thead>\n",
              "    <tr style=\"text-align: right;\">\n",
              "      <th></th>\n",
              "      <th>mpg</th>\n",
              "      <th>cylinders</th>\n",
              "      <th>displacement</th>\n",
              "      <th>weight</th>\n",
              "      <th>acceleration</th>\n",
              "      <th>year</th>\n",
              "      <th>origin</th>\n",
              "    </tr>\n",
              "  </thead>\n",
              "  <tbody>\n",
              "    <tr>\n",
              "      <th>count</th>\n",
              "      <td>309.000000</td>\n",
              "      <td>309.000000</td>\n",
              "      <td>309.000000</td>\n",
              "      <td>309.000000</td>\n",
              "      <td>309.000000</td>\n",
              "      <td>309.000000</td>\n",
              "      <td>309.000000</td>\n",
              "    </tr>\n",
              "    <tr>\n",
              "      <th>mean</th>\n",
              "      <td>23.446602</td>\n",
              "      <td>5.456311</td>\n",
              "      <td>194.341424</td>\n",
              "      <td>2980.605178</td>\n",
              "      <td>15.583819</td>\n",
              "      <td>76.093851</td>\n",
              "      <td>1.563107</td>\n",
              "    </tr>\n",
              "    <tr>\n",
              "      <th>std</th>\n",
              "      <td>7.721144</td>\n",
              "      <td>1.719503</td>\n",
              "      <td>104.865997</td>\n",
              "      <td>850.713619</td>\n",
              "      <td>2.741693</td>\n",
              "      <td>3.665511</td>\n",
              "      <td>0.801823</td>\n",
              "    </tr>\n",
              "    <tr>\n",
              "      <th>min</th>\n",
              "      <td>9.000000</td>\n",
              "      <td>3.000000</td>\n",
              "      <td>68.000000</td>\n",
              "      <td>1613.000000</td>\n",
              "      <td>8.500000</td>\n",
              "      <td>70.000000</td>\n",
              "      <td>1.000000</td>\n",
              "    </tr>\n",
              "    <tr>\n",
              "      <th>25%</th>\n",
              "      <td>17.500000</td>\n",
              "      <td>4.000000</td>\n",
              "      <td>105.000000</td>\n",
              "      <td>2234.000000</td>\n",
              "      <td>13.500000</td>\n",
              "      <td>73.000000</td>\n",
              "      <td>1.000000</td>\n",
              "    </tr>\n",
              "    <tr>\n",
              "      <th>50%</th>\n",
              "      <td>23.000000</td>\n",
              "      <td>4.000000</td>\n",
              "      <td>151.000000</td>\n",
              "      <td>2790.000000</td>\n",
              "      <td>15.500000</td>\n",
              "      <td>76.000000</td>\n",
              "      <td>1.000000</td>\n",
              "    </tr>\n",
              "    <tr>\n",
              "      <th>75%</th>\n",
              "      <td>29.000000</td>\n",
              "      <td>8.000000</td>\n",
              "      <td>302.000000</td>\n",
              "      <td>3613.000000</td>\n",
              "      <td>17.000000</td>\n",
              "      <td>79.000000</td>\n",
              "      <td>2.000000</td>\n",
              "    </tr>\n",
              "    <tr>\n",
              "      <th>max</th>\n",
              "      <td>46.600000</td>\n",
              "      <td>8.000000</td>\n",
              "      <td>455.000000</td>\n",
              "      <td>5140.000000</td>\n",
              "      <td>24.800000</td>\n",
              "      <td>82.000000</td>\n",
              "      <td>3.000000</td>\n",
              "    </tr>\n",
              "  </tbody>\n",
              "</table>\n",
              "</div>"
            ],
            "text/plain": [
              "              mpg   cylinders  ...        year      origin\n",
              "count  309.000000  309.000000  ...  309.000000  309.000000\n",
              "mean    23.446602    5.456311  ...   76.093851    1.563107\n",
              "std      7.721144    1.719503  ...    3.665511    0.801823\n",
              "min      9.000000    3.000000  ...   70.000000    1.000000\n",
              "25%     17.500000    4.000000  ...   73.000000    1.000000\n",
              "50%     23.000000    4.000000  ...   76.000000    1.000000\n",
              "75%     29.000000    8.000000  ...   79.000000    2.000000\n",
              "max     46.600000    8.000000  ...   82.000000    3.000000\n",
              "\n",
              "[8 rows x 7 columns]"
            ]
          },
          "metadata": {
            "tags": []
          },
          "execution_count": 184
        }
      ]
    },
    {
      "cell_type": "markdown",
      "metadata": {
        "id": "_ljwetFVErMT",
        "colab_type": "text"
      },
      "source": [
        "### NUMPY"
      ]
    },
    {
      "cell_type": "code",
      "metadata": {
        "id": "TItVWUMzEwSG",
        "colab_type": "code",
        "colab": {}
      },
      "source": [
        ""
      ],
      "execution_count": 0,
      "outputs": []
    },
    {
      "cell_type": "markdown",
      "metadata": {
        "id": "dN-KVNI8Ewrl",
        "colab_type": "text"
      },
      "source": [
        "### SK_LEARN"
      ]
    },
    {
      "cell_type": "code",
      "metadata": {
        "id": "czUy0ZX1E0e3",
        "colab_type": "code",
        "colab": {}
      },
      "source": [
        ""
      ],
      "execution_count": 0,
      "outputs": []
    },
    {
      "cell_type": "markdown",
      "metadata": {
        "id": "c5LxQIvItn9n",
        "colab_type": "text"
      },
      "source": [
        "## **READY TO USE FUNCTIONS**\n"
      ]
    },
    {
      "cell_type": "markdown",
      "metadata": {
        "id": "9qopmgVHu1DE",
        "colab_type": "text"
      },
      "source": [
        "DISPLAYING DATAFRAME "
      ]
    },
    {
      "cell_type": "code",
      "metadata": {
        "id": "ntM-UmP5uv3v",
        "colab_type": "code",
        "colab": {}
      },
      "source": [
        "def summary(df):\n",
        "  \"\"\" Usage: summary(df) \"\"\"\n",
        "  df = df.select_dtypes(include=['int', 'float'])\n",
        "  headers = df.columns.values\n",
        "  summary = []\n",
        "  for field in headers:\n",
        "    summary.append(\n",
        "        {\n",
        "            'aname': field,\n",
        "            'mean':df[field].mean(),\n",
        "            'median':df[field].median(),\n",
        "            'sdev':df[field].std(),\n",
        "            'var': df[field].var()\n",
        "        }) \n",
        "  df2 = pd.DataFrame(summary)\n",
        "  #display(df2)\n",
        "  return df2"
      ],
      "execution_count": 0,
      "outputs": []
    },
    {
      "cell_type": "markdown",
      "metadata": {
        "id": "sjw6vDdcu5Pb",
        "colab_type": "text"
      },
      "source": [
        "FILLING NA"
      ]
    },
    {
      "cell_type": "code",
      "metadata": {
        "id": "7A4qdV06u78m",
        "colab_type": "code",
        "colab": {}
      },
      "source": [
        "def remove_na(df):\n",
        "  cols = df.select_dtypes(include=['int', 'float']).columns.values\n",
        "  for col in cols:\n",
        "    if df[col].isnull().values.any():\n",
        "      df[col] = df[col].fillna(df[col].median())\n",
        "  df.dropna()\n",
        "  return df"
      ],
      "execution_count": 0,
      "outputs": []
    },
    {
      "cell_type": "markdown",
      "metadata": {
        "id": "-1Eft2tu1QEt",
        "colab_type": "text"
      },
      "source": [
        "REMOVING OUTLIERS"
      ]
    },
    {
      "cell_type": "code",
      "metadata": {
        "id": "yPNK89Z_1O7R",
        "colab_type": "code",
        "colab": {}
      },
      "source": [
        "def remove_outliers(df, std_patiance=2):\n",
        "  names = df.select_dtypes(include=['int', 'float']).columns.values\n",
        "  for name in names:\n",
        "    std = df[name].std()\n",
        "    mean = df[name].mean()\n",
        "    rows_to_drop = df.index[np.abs((df[name] - mean) >= (std_patiance * std))]\n",
        "    df.drop(rows_to_drop, axis=0, inplace=True)\n",
        "\n",
        "  return df"
      ],
      "execution_count": 0,
      "outputs": []
    },
    {
      "cell_type": "markdown",
      "metadata": {
        "id": "aeV1vsnSt23o",
        "colab_type": "text"
      },
      "source": [
        "### DISPLAYING DATAFRAME\n"
      ]
    },
    {
      "cell_type": "code",
      "metadata": {
        "id": "-AIql8uUt1Tk",
        "colab_type": "code",
        "colab": {
          "base_uri": "https://localhost:8080/",
          "height": 266
        },
        "outputId": "2df06c73-f128-4ddd-9207-3080409eab9a"
      },
      "source": [
        "summary(df)"
      ],
      "execution_count": 68,
      "outputs": [
        {
          "output_type": "execute_result",
          "data": {
            "text/html": [
              "<div>\n",
              "<style scoped>\n",
              "    .dataframe tbody tr th:only-of-type {\n",
              "        vertical-align: middle;\n",
              "    }\n",
              "\n",
              "    .dataframe tbody tr th {\n",
              "        vertical-align: top;\n",
              "    }\n",
              "\n",
              "    .dataframe thead th {\n",
              "        text-align: right;\n",
              "    }\n",
              "</style>\n",
              "<table border=\"1\" class=\"dataframe\">\n",
              "  <thead>\n",
              "    <tr style=\"text-align: right;\">\n",
              "      <th></th>\n",
              "      <th>aname</th>\n",
              "      <th>mean</th>\n",
              "      <th>median</th>\n",
              "      <th>sdev</th>\n",
              "      <th>var</th>\n",
              "    </tr>\n",
              "  </thead>\n",
              "  <tbody>\n",
              "    <tr>\n",
              "      <th>0</th>\n",
              "      <td>mpg</td>\n",
              "      <td>23.514573</td>\n",
              "      <td>23.0</td>\n",
              "      <td>7.815984</td>\n",
              "      <td>61.089611</td>\n",
              "    </tr>\n",
              "    <tr>\n",
              "      <th>1</th>\n",
              "      <td>cylinders</td>\n",
              "      <td>5.454774</td>\n",
              "      <td>4.0</td>\n",
              "      <td>1.701004</td>\n",
              "      <td>2.893415</td>\n",
              "    </tr>\n",
              "    <tr>\n",
              "      <th>2</th>\n",
              "      <td>displacement</td>\n",
              "      <td>193.425879</td>\n",
              "      <td>148.5</td>\n",
              "      <td>104.269838</td>\n",
              "      <td>10872.199152</td>\n",
              "    </tr>\n",
              "    <tr>\n",
              "      <th>3</th>\n",
              "      <td>weight</td>\n",
              "      <td>2970.424623</td>\n",
              "      <td>2803.5</td>\n",
              "      <td>846.841774</td>\n",
              "      <td>717140.990526</td>\n",
              "    </tr>\n",
              "    <tr>\n",
              "      <th>4</th>\n",
              "      <td>acceleration</td>\n",
              "      <td>15.568090</td>\n",
              "      <td>15.5</td>\n",
              "      <td>2.757689</td>\n",
              "      <td>7.604848</td>\n",
              "    </tr>\n",
              "    <tr>\n",
              "      <th>5</th>\n",
              "      <td>year</td>\n",
              "      <td>76.010050</td>\n",
              "      <td>76.0</td>\n",
              "      <td>3.697627</td>\n",
              "      <td>13.672443</td>\n",
              "    </tr>\n",
              "    <tr>\n",
              "      <th>6</th>\n",
              "      <td>origin</td>\n",
              "      <td>1.572864</td>\n",
              "      <td>1.0</td>\n",
              "      <td>0.802055</td>\n",
              "      <td>0.643292</td>\n",
              "    </tr>\n",
              "  </tbody>\n",
              "</table>\n",
              "</div>"
            ],
            "text/plain": [
              "          aname         mean  median        sdev            var\n",
              "0           mpg    23.514573    23.0    7.815984      61.089611\n",
              "1     cylinders     5.454774     4.0    1.701004       2.893415\n",
              "2  displacement   193.425879   148.5  104.269838   10872.199152\n",
              "3        weight  2970.424623  2803.5  846.841774  717140.990526\n",
              "4  acceleration    15.568090    15.5    2.757689       7.604848\n",
              "5          year    76.010050    76.0    3.697627      13.672443\n",
              "6        origin     1.572864     1.0    0.802055       0.643292"
            ]
          },
          "metadata": {
            "tags": []
          },
          "execution_count": 68
        }
      ]
    }
  ]
}